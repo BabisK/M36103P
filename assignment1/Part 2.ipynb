{
 "cells": [
  {
   "cell_type": "markdown",
   "metadata": {},
   "source": [
    "The following code was tested only with Linux OS. The Oracle DB client was installed and the cx_Oracle python library was used with Python 3.5."
   ]
  },
  {
   "cell_type": "code",
   "execution_count": 1,
   "metadata": {
    "collapsed": true
   },
   "outputs": [],
   "source": [
    "import cx_Oracle\n",
    "import csv\n",
    "import os"
   ]
  },
  {
   "cell_type": "markdown",
   "metadata": {},
   "source": [
    "We set the language to UTF8 so we can import and read Unicode characters that exist in the dataset."
   ]
  },
  {
   "cell_type": "code",
   "execution_count": 2,
   "metadata": {
    "collapsed": false
   },
   "outputs": [
    {
     "name": "stdout",
     "output_type": "stream",
     "text": [
      "Oracle DB server version 12.1.0.2.0\n"
     ]
    }
   ],
   "source": [
    "os.environ['NLS_LANG'] = '.AL32UTF8'\n",
    "db = cx_Oracle.connect('user_1', 'babis', '52.50.54.24:1521/ORCL', encoding='utf-8')\n",
    "print('Oracle DB server version %s' % db.version)"
   ]
  },
  {
   "cell_type": "markdown",
   "metadata": {},
   "source": [
    "Create the connection cursor we will use for all operations."
   ]
  },
  {
   "cell_type": "code",
   "execution_count": 3,
   "metadata": {
    "collapsed": true
   },
   "outputs": [],
   "source": [
    "cursor = db.cursor()"
   ]
  },
  {
   "cell_type": "markdown",
   "metadata": {},
   "source": [
    "We read the SQL script and process it command by command."
   ]
  },
  {
   "cell_type": "code",
   "execution_count": 22,
   "metadata": {
    "collapsed": false
   },
   "outputs": [],
   "source": [
    "script_file = open('part2/Part 2.sql')\n",
    "script = script_file.read()\n",
    "commands = script.split(';')\n",
    "\n",
    "for command in commands:\n",
    "    if(command.isspace()==False and len(command) > 0):\n",
    "        command = command.strip()\n",
    "        cursor.execute(command)"
   ]
  },
  {
   "cell_type": "markdown",
   "metadata": {},
   "source": [
    "To transpose the matrix we swap the rows with the columns"
   ]
  },
  {
   "cell_type": "code",
   "execution_count": 24,
   "metadata": {
    "collapsed": false
   },
   "outputs": [
    {
     "name": "stdout",
     "output_type": "stream",
     "text": [
      "(0, 0, 7)\n",
      "(0, 1, 10)\n",
      "(0, 2, 2)\n",
      "(1, 0, 5)\n",
      "(1, 1, 7)\n",
      "(1, 2, 0)\n",
      "(2, 0, 8)\n",
      "(2, 1, 7)\n",
      "(2, 2, 5)\n"
     ]
    }
   ],
   "source": [
    "part2a = ('SELECT j AS i, i AS j, val '\n",
    "          'FROM A '\n",
    "          'ORDER BY i, j')\n",
    "\n",
    "for i, row in enumerate(cursor.execute(part2a)):\n",
    "    print(row)"
   ]
  },
  {
   "cell_type": "markdown",
   "metadata": {},
   "source": [
    "To get the dot product we sum the product on corresponding elements:"
   ]
  },
  {
   "cell_type": "code",
   "execution_count": 30,
   "metadata": {
    "collapsed": false
   },
   "outputs": [
    {
     "name": "stdout",
     "output_type": "stream",
     "text": [
      "(113,)\n"
     ]
    }
   ],
   "source": [
    "part2b = ('SELECT SUM(A.val * B.val) '\n",
    "          'FROM A JOIN B '\n",
    "          'ON A.i=B.i '\n",
    "          'WHERE A.j=1 AND B.j=2')\n",
    "\n",
    "for i, row in enumerate(cursor.execute(part2b)):\n",
    "    print(row)"
   ]
  },
  {
   "cell_type": "markdown",
   "metadata": {},
   "source": [
    "Same as above:"
   ]
  },
  {
   "cell_type": "code",
   "execution_count": 33,
   "metadata": {
    "collapsed": false
   },
   "outputs": [
    {
     "name": "stdout",
     "output_type": "stream",
     "text": [
      "(212,)\n"
     ]
    }
   ],
   "source": [
    "part2c = ('SELECT SUM(A.val * B.val) '\n",
    "          'FROM A JOIN B '\n",
    "          'ON A.j=B.i '\n",
    "          'WHERE A.i=1 AND B.j=2'\n",
    "         )\n",
    "\n",
    "for i, row in enumerate(cursor.execute(part2c)):\n",
    "    print(row)"
   ]
  },
  {
   "cell_type": "markdown",
   "metadata": {},
   "source": [
    "For matrix multiplication we get the dot product for each element in the matrix. We group by rows and columns to achieve that:"
   ]
  },
  {
   "cell_type": "code",
   "execution_count": 41,
   "metadata": {
    "collapsed": false
   },
   "outputs": [
    {
     "name": "stdout",
     "output_type": "stream",
     "text": [
      "(0, 0, 106)\n",
      "(0, 1, 80)\n",
      "(0, 2, 171)\n",
      "(1, 0, 146)\n",
      "(1, 1, 109)\n",
      "(1, 2, 212)\n",
      "(2, 0, 23)\n",
      "(2, 1, 17)\n",
      "(2, 2, 55)\n"
     ]
    }
   ],
   "source": [
    "part2d = ('SELECT A.i AS i, B.j AS j, SUM(A.val * B.val) AS val '\n",
    "          'FROM A '\n",
    "          'JOIN B '\n",
    "          'ON B.i=A.j '\n",
    "          'GROUP BY A.i, B.j '\n",
    "          'ORDER BY i, j'\n",
    "         )\n",
    "\n",
    "for i, row in enumerate(cursor.execute(part2d)):\n",
    "    print(row)"
   ]
  },
  {
   "cell_type": "markdown",
   "metadata": {},
   "source": [
    "We drop the tables and close the connection to the DB server."
   ]
  },
  {
   "cell_type": "code",
   "execution_count": 21,
   "metadata": {
    "collapsed": true
   },
   "outputs": [],
   "source": [
    "drop_A = ('DROP TABLE A')\n",
    "cursor.execute(drop_A)\n",
    "drop_B = ('DROP TABLE B')\n",
    "cursor.execute(drop_B)"
   ]
  },
  {
   "cell_type": "code",
   "execution_count": 42,
   "metadata": {
    "collapsed": true
   },
   "outputs": [],
   "source": [
    "cursor.close()\n",
    "db.close()"
   ]
  }
 ],
 "metadata": {
  "kernelspec": {
   "display_name": "Python 3",
   "language": "python",
   "name": "python3"
  },
  "language_info": {
   "codemirror_mode": {
    "name": "ipython",
    "version": 3
   },
   "file_extension": ".py",
   "mimetype": "text/x-python",
   "name": "python",
   "nbconvert_exporter": "python",
   "pygments_lexer": "ipython3",
   "version": "3.5.1"
  }
 },
 "nbformat": 4,
 "nbformat_minor": 0
}
