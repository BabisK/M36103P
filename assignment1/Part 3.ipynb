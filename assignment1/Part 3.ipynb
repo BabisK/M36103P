{
 "cells": [
  {
   "cell_type": "markdown",
   "metadata": {},
   "source": [
    "The following code was tested only with Linux OS. The Oracle DB client was installed and the cx_Oracle python library was used with Python 3.5."
   ]
  },
  {
   "cell_type": "code",
   "execution_count": 1,
   "metadata": {
    "collapsed": true
   },
   "outputs": [],
   "source": [
    "import cx_Oracle\n",
    "import csv\n",
    "import os"
   ]
  },
  {
   "cell_type": "markdown",
   "metadata": {},
   "source": [
    "We set the language to UTF8 so we can import and read Unicode characters that exist in the dataset."
   ]
  },
  {
   "cell_type": "code",
   "execution_count": 2,
   "metadata": {
    "collapsed": false
   },
   "outputs": [
    {
     "name": "stdout",
     "output_type": "stream",
     "text": [
      "Oracle DB server version 12.1.0.2.0\n"
     ]
    }
   ],
   "source": [
    "os.environ['NLS_LANG'] = '.AL32UTF8'\n",
    "db = cx_Oracle.connect('user_1', 'babis', '52.50.54.24:1521/ORCL', encoding='utf-8')\n",
    "print('Oracle DB server version %s' % db.version)"
   ]
  },
  {
   "cell_type": "markdown",
   "metadata": {},
   "source": [
    "Create the connection cursor we will use for all operations."
   ]
  },
  {
   "cell_type": "code",
   "execution_count": 3,
   "metadata": {
    "collapsed": true
   },
   "outputs": [],
   "source": [
    "cursor = db.cursor()"
   ]
  },
  {
   "cell_type": "markdown",
   "metadata": {},
   "source": [
    "We read the SQL script and process it command by command."
   ]
  },
  {
   "cell_type": "code",
   "execution_count": 9,
   "metadata": {
    "collapsed": false
   },
   "outputs": [],
   "source": [
    "script_file = open('part3/Part 3.sql')\n",
    "script = script_file.read()\n",
    "commands = script.split(';')\n",
    "\n",
    "for command in commands:\n",
    "    if(command.isspace()==False and len(command) > 0):\n",
    "        command = command.strip()\n",
    "        cursor.execute(command)"
   ]
  },
  {
   "cell_type": "markdown",
   "metadata": {},
   "source": [
    "Since we examine the cases with up to 3 hops (streets) the folowing query will do. It examines the available companies at each number of hops starting from AUEB."
   ]
  },
  {
   "cell_type": "code",
   "execution_count": 10,
   "metadata": {
    "collapsed": false
   },
   "outputs": [
    {
     "name": "stdout",
     "output_type": "stream",
     "text": [
      "('DooHickey Collective', 7)\n",
      "('DooHickey Corp', 9)\n",
      "('Gadget Collective', 9)\n",
      "('Gadget Corp', 6)\n",
      "('Gizmo Corp', 9)\n",
      "('Widget Industries', 10)\n"
     ]
    }
   ],
   "source": [
    "part3a = ('SELECT B AS company, d AS distance '\n",
    "          'FROM streets '\n",
    "          'WHERE A=\\'AUEB\\' '\n",
    "          'AND d <= 10 '\n",
    "          'UNION '\n",
    "          'SELECT street2.B AS company, (street1.d+street2.d) AS distance '\n",
    "          'FROM streets street1 '\n",
    "          'JOIN streets street2 '\n",
    "          'ON street1.B=street2.A '\n",
    "          'WHERE street1.A=\\'AUEB\\' '\n",
    "          'AND street1.d+street2.d <= 10 '\n",
    "          'AND street1.A != street2.B '\n",
    "          'UNION '\n",
    "          'SELECT street3.B AS company, (street1.d+street2.d+street3.d) AS distance '\n",
    "          'FROM streets street1 '\n",
    "          'JOIN streets street2 '\n",
    "          'ON street1.B=street2.A '\n",
    "          'JOIN streets street3 '\n",
    "          'ON street2.B=street3.A '\n",
    "          'WHERE street1.A=\\'AUEB\\' '\n",
    "          'AND street1.d+street2.d+street3.d <= 10 '\n",
    "          'AND street1.A != street2.B '\n",
    "          'AND street2.A != street3.B '\n",
    "          'AND street1.A != street3.B'\n",
    "         )\n",
    "\n",
    "for i, row in enumerate(cursor.execute(part3a)):\n",
    "    print(row)"
   ]
  },
  {
   "cell_type": "code",
   "execution_count": 12,
   "metadata": {
    "collapsed": false
   },
   "outputs": [
    {
     "name": "stdout",
     "output_type": "stream",
     "text": [
      "(None, None, 'Gadget Corp', 'AUEB', 'DooHickey Collective', 'Gizmo Corp', None, 15)\n",
      "(None, None, 'Gadget Corp', 'AUEB', 'DooHickey Collective', None, None, 13)\n",
      "(None, None, 'DooHickey Collective', 'AUEB', 'DooHickey Collective', None, None, 14)\n",
      "(None, None, 'Gadget Corp', 'AUEB', 'Gadget Collective', None, None, 15)\n",
      "(None, None, 'Gadget Corp', 'AUEB', 'Gadget Corp', 'DooHickey Corp', None, 15)\n",
      "(None, None, 'Gadget Corp', 'AUEB', 'Gadget Corp', None, None, 12)\n",
      "(None, None, 'Gadget Collective', 'AUEB', 'Gadget Corp', None, None, 15)\n",
      "(None, None, 'DooHickey Collective', 'AUEB', 'Gadget Corp', None, None, 13)\n",
      "(None, 'Gizmo Corp', 'DooHickey Collective', 'AUEB', 'Gadget Corp', None, None, 15)\n",
      "(None, 'DooHickey Corp', 'Gadget Corp', 'AUEB', 'Gadget Corp', None, None, 15)\n"
     ]
    }
   ],
   "source": [
    "part3b = ('SELECT l.p1 AS p1, l.p2 AS p2, l.p3 AS p3, l.p4 AS p4, r.p5 AS p5, r.p6 AS p6, r.p7 AS p7, (l.distance + r.distance) AS distance '\n",
    "          'FROM ('\n",
    "              'SELECT NULL AS p1, NULL AS p2, A AS p3, B AS p4, d AS distance '\n",
    "              'FROM streets '\n",
    "              'WHERE B=\\'AUEB\\' '\n",
    "              'UNION '\n",
    "              'SELECT NULL AS p1, street1.A AS p2, street1.B as p3, street2.B AS p4, (street1.d+street2.d) AS distance '\n",
    "              'FROM streets street1 '\n",
    "              'JOIN streets street2 '\n",
    "              'ON street1.B=street2.A '\n",
    "              'WHERE street2.B=\\'AUEB\\' '\n",
    "              'AND street1.A != street2.B '\n",
    "              'UNION '\n",
    "              'SELECT street1.A AS p1, street2.A AS p2, street3.A AS p3, street3.B AS p4, (street1.d+street2.d+street3.d) AS distance '\n",
    "              'FROM streets street1 '\n",
    "              'JOIN streets street2 '\n",
    "              'ON street1.B=street2.A '\n",
    "              'JOIN streets street3 '\n",
    "              'ON street2.B=street3.A '\n",
    "              'WHERE street3.B=\\'AUEB\\' '\n",
    "              'AND street1.A != street2.B '\n",
    "              'AND street2.A != street3.B '\n",
    "              'AND street1.A != street3.B) l '\n",
    "          'JOIN ('\n",
    "              'SELECT A AS p4, B AS p5, NULL AS p6, NULL AS p7, d AS distance '\n",
    "              'FROM streets '\n",
    "              'WHERE A=\\'AUEB\\' '\n",
    "              'UNION '\n",
    "              'SELECT street1.A AS p4, street2.A AS p5, street2.B AS p6, NULL AS p7, (street1.d+street2.d) AS distance '\n",
    "              'FROM streets street1 '\n",
    "              'JOIN streets street2 '\n",
    "              'ON street1.B=street2.A '\n",
    "              'WHERE street1.A=\\'AUEB\\' '\n",
    "              'AND street1.A != street2.B '\n",
    "              'UNION '\n",
    "              'SELECT street1.A AS p4, street2.A AS p5, street3.A AS p6, street3.B AS p7, (street1.d+street2.d+street3.d) AS distance '\n",
    "              'FROM streets street1 '\n",
    "              'JOIN streets street2 '\n",
    "              'ON street1.B=street2.A '\n",
    "              'JOIN streets street3 '\n",
    "              'ON street2.B=street3.A '\n",
    "              'WHERE street1.A=\\'AUEB\\' '\n",
    "              'AND street1.A != street2.B '\n",
    "              'AND street2.A != street3.B '\n",
    "              'AND street1.A != street3.B) r '\n",
    "          'ON l.p4=r.p4 '\n",
    "          'WHERE l.distance+r.distance <= 15'\n",
    "         )\n",
    "\n",
    "#part3b = ('WITH path (A, B, d, hop) AS ('\n",
    "#              'SELECT A, B, d, 1 '\n",
    "#              'FROM streets '\n",
    "#              'WHERE direction = \\'F\\' '\n",
    "#              'UNION ALL '\n",
    "#              'SELECT p2.A AS A, p2.B AS B, (p1.d+p2.d) AS d, p1.hop+1 '\n",
    "#              'FROM path p1 '\n",
    "#              'JOIN streets p2 '\n",
    "#              'ON p1.B = p2.A '\n",
    "#              'WHERE (p1.d+p2.d) <= 15 '\n",
    "#              'AND hop <= 3'\n",
    "#              'AND direction = \\'F\\' '\n",
    "#          ') CYCLE A,B SET is_cycle TO 1 DEFAULT 0'\n",
    "#          'SELECT * FROM path'\n",
    "#         )\n",
    "\n",
    "for i, row in enumerate(cursor.execute(part3b)):\n",
    "    print(row)"
   ]
  },
  {
   "cell_type": "markdown",
   "metadata": {},
   "source": [
    "We reenter the data in a second table, changing its name to streets2:"
   ]
  },
  {
   "cell_type": "code",
   "execution_count": 22,
   "metadata": {
    "collapsed": true
   },
   "outputs": [],
   "source": [
    "script_file = open('part3/Part 3.sql')\n",
    "script = script_file.read()\n",
    "commands = script.split(';')\n",
    "\n",
    "for command in commands:\n",
    "    if(command.isspace()==False and len(command) > 0):\n",
    "        command = command.strip()\n",
    "        command = command.replace('streets', 'streets2')\n",
    "        cursor.execute(command)"
   ]
  },
  {
   "cell_type": "markdown",
   "metadata": {},
   "source": []
  },
  {
   "cell_type": "code",
   "execution_count": 14,
   "metadata": {
    "collapsed": false
   },
   "outputs": [
    {
     "name": "stdout",
     "output_type": "stream",
     "text": [
      "('AUEB', 'DooHickey Collective', 7, 1, '0')\n",
      "('AUEB', 'Gadget Corp', 6, 1, '0')\n",
      "('AUEB', 'Gadget Collective', 9, 1, '0')\n",
      "('DooHickey Collective', 'Gizmo Corp', 9, 2, '0')\n",
      "('Gadget Corp', 'DooHickey Corp', 9, 2, '0')\n",
      "('Gadget Corp', 'Gadget Industries', 15, 2, '0')\n",
      "('Gadget Collective', 'GizmoWorks', 12, 2, '0')\n",
      "('Gizmo Corp', 'GadgetWorks', 17, 3, '0')\n",
      "('Gizmo Corp', 'Widget Industries', 10, 3, '0')\n",
      "('DooHickey Corp', 'DooHickeyWorks', 12, 3, '0')\n",
      "('Gadget Industries', 'Widget Corp', 20, 3, '0')\n",
      "('DooHickey Corp', 'ThingCo', 15, 3, '0')\n",
      "('Widget Industries', 'Gizmo Industries', 11, 4, '0')\n",
      "('DooHickeyWorks', 'Thing Industries', 13, 4, '0')\n",
      "('Thing Industries', 'Widget Collective', 15, 5, '0')\n",
      "('Thing Industries', 'Gizmo Collective', 16, 5, '0')\n",
      "('Thing Industries', 'GadgetCo', 22, 5, '0')\n",
      "('Widget Collective', 'DooHickeyCo', 17, 6, '0')\n",
      "('Widget Collective', 'WidgetWorks', 16, 6, '0')\n",
      "('Widget Collective', 'GadgetCo', 22, 6, '0')\n",
      "('GadgetCo', 'Widget Collective', 29, 6, '0')\n",
      "('Widget Collective', 'Thing Industries', 31, 7, '0')\n",
      "('Widget Collective', 'DooHickeyCo', 31, 7, '0')\n",
      "('DooHickeyCo', 'Thing Collective', 26, 7, '0')\n",
      "('DooHickeyCo', 'Thing Corp', 23, 7, '0')\n",
      "('Widget Collective', 'WidgetWorks', 30, 7, '0')\n",
      "('GadgetCo', 'Thing Industries', 31, 7, '0')\n",
      "('Thing Industries', 'DooHickeyWorks', 32, 8, '1')\n",
      "('Thing Industries', 'DooHickeyWorks', 32, 8, '1')\n",
      "('Thing Industries', 'Widget Collective', 33, 8, '1')\n",
      "('Thing Industries', 'Gizmo Collective', 34, 8, '1')\n",
      "('Thing Industries', 'Gizmo Collective', 34, 8, '1')\n",
      "('DooHickeyCo', 'Thing Collective', 40, 8, '0')\n",
      "('DooHickeyCo', 'Thing Corp', 37, 8, '0')\n",
      "('Thing Corp', 'GizmoCo', 27, 8, '0')\n",
      "('Thing Corp', 'DooHickey Industries', 26, 8, '0')\n",
      "('Thing Industries', 'GadgetCo', 40, 8, '1')\n",
      "('Thing Corp', 'GizmoCo', 41, 9, '0')\n",
      "('Thing Corp', 'DooHickey Industries', 40, 9, '0')\n",
      "('DooHickey Industries', 'WidgetCo', 27, 9, '0')\n",
      "('GizmoCo', 'ThingWorks', 32, 9, '0')\n",
      "('DooHickey Industries', 'WidgetCo', 41, 10, '0')\n",
      "('GizmoCo', 'ThingWorks', 46, 10, '0')\n"
     ]
    }
   ],
   "source": [
    "part3c = ('WITH path (A, B, d, hop) AS ('\n",
    "              'SELECT A, B, d, 1 '\n",
    "              'FROM streets '\n",
    "              'WHERE A = \\'AUEB\\' '\n",
    "              'UNION ALL '\n",
    "              'SELECT p1.A AS A, p1.B AS B, (p1.d+p2.d) AS d, p2.hop+1 '\n",
    "              'FROM streets p1 '\n",
    "              'JOIN path p2 '\n",
    "              'ON p1.A = p2.B '\n",
    "              'WHERE p1.B != p2.A '\n",
    "          ') CYCLE A SET is_cycle TO 1 DEFAULT 0'\n",
    "          'SELECT * FROM path '\n",
    "         )\n",
    "for i, row in enumerate(cursor.execute(part3c)):\n",
    "    print(row)"
   ]
  },
  {
   "cell_type": "code",
   "execution_count": 8,
   "metadata": {
    "collapsed": true
   },
   "outputs": [],
   "source": [
    "drop_streets = ('DROP TABLE streets')\n",
    "cursor.execute(drop_streets)\n",
    "drop_streets2 = ('DROP TABLE streets2')\n",
    "cursor.execute(drop_streets2)"
   ]
  }
 ],
 "metadata": {
  "kernelspec": {
   "display_name": "Python 3",
   "language": "python",
   "name": "python3"
  },
  "language_info": {
   "codemirror_mode": {
    "name": "ipython",
    "version": 3
   },
   "file_extension": ".py",
   "mimetype": "text/x-python",
   "name": "python",
   "nbconvert_exporter": "python",
   "pygments_lexer": "ipython3",
   "version": "3.5.1"
  }
 },
 "nbformat": 4,
 "nbformat_minor": 0
}
