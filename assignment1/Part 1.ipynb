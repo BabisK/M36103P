{
 "cells": [
  {
   "cell_type": "code",
   "execution_count": 220,
   "metadata": {
    "collapsed": true
   },
   "outputs": [],
   "source": [
    "import cx_Oracle\n",
    "import csv\n",
    "import os"
   ]
  },
  {
   "cell_type": "code",
   "execution_count": 221,
   "metadata": {
    "collapsed": false
   },
   "outputs": [
    {
     "name": "stdout",
     "output_type": "stream",
     "text": [
      "Oracle DB server version 12.1.0.2.0\n"
     ]
    }
   ],
   "source": [
    "os.environ['NLS_LANG'] = '.AL32UTF8'\n",
    "db = cx_Oracle.connect('user_1', 'pwd', '52.50.54.24:1521/ORCL', encoding='utf-8')\n",
    "print('Oracle DB server version %s' % db.version)"
   ]
  },
  {
   "cell_type": "code",
   "execution_count": 222,
   "metadata": {
    "collapsed": false
   },
   "outputs": [],
   "source": [
    "cursor = db.cursor()"
   ]
  },
  {
   "cell_type": "code",
   "execution_count": 226,
   "metadata": {
    "collapsed": false
   },
   "outputs": [],
   "source": [
    "create_companies = ('CREATE TABLE companies ('\n",
    "                    'permalink NVARCHAR2(120),'\n",
    "                    'name NVARCHAR2(80),'\n",
    "                    'homepage_url VARCHAR(120),'\n",
    "                    'category_list VARCHAR(350),'\n",
    "                    'funding_total_usd NUMBER(12,0),'\n",
    "                    'status VARCHAR(15),'\n",
    "                    'country_code CHAR(3),'\n",
    "                    'state_code VARCHAR(2),'\n",
    "                    'region VARCHAR(40),'\n",
    "                    'city VARCHAR(40),'\n",
    "                    'funding_rounds NUMBER(3,0),'\n",
    "                    'founded_at DATE,'\n",
    "                    'first_funding_at DATE,'\n",
    "                    'last_funding_at DATE)')\n",
    "cursor.execute(create_companies)"
   ]
  },
  {
   "cell_type": "code",
   "execution_count": 227,
   "metadata": {
    "collapsed": false
   },
   "outputs": [
    {
     "ename": "DatabaseError",
     "evalue": "ORA-12899: value too large for column \"USER_1\".\"COMPANIES\".\"NAME\" (actual: 66, maximum: 60)\n",
     "output_type": "error",
     "traceback": [
      "\u001b[1;31m---------------------------------------------------------------------------\u001b[0m",
      "\u001b[1;31mDatabaseError\u001b[0m                             Traceback (most recent call last)",
      "\u001b[1;32m<ipython-input-227-c233dc40af0c>\u001b[0m in \u001b[0;36m<module>\u001b[1;34m()\u001b[0m\n\u001b[0;32m      7\u001b[0m         \u001b[1;32mif\u001b[0m \u001b[0mrow\u001b[0m\u001b[1;33m[\u001b[0m\u001b[1;34m'funding_total_usd'\u001b[0m\u001b[1;33m]\u001b[0m\u001b[1;33m==\u001b[0m\u001b[1;34m'-'\u001b[0m\u001b[1;33m:\u001b[0m\u001b[1;33m\u001b[0m\u001b[0m\n\u001b[0;32m      8\u001b[0m             \u001b[0mrow\u001b[0m\u001b[1;33m[\u001b[0m\u001b[1;34m'funding_total_usd'\u001b[0m\u001b[1;33m]\u001b[0m\u001b[1;33m=\u001b[0m\u001b[1;34m''\u001b[0m\u001b[1;33m\u001b[0m\u001b[0m\n\u001b[1;32m----> 9\u001b[1;33m         \u001b[0mcursor\u001b[0m\u001b[1;33m.\u001b[0m\u001b[0mexecute\u001b[0m\u001b[1;33m(\u001b[0m\u001b[0minsert_companies\u001b[0m\u001b[1;33m,\u001b[0m \u001b[0mrow\u001b[0m\u001b[1;33m)\u001b[0m\u001b[1;33m\u001b[0m\u001b[0m\n\u001b[0m\u001b[0;32m     10\u001b[0m \u001b[1;33m\u001b[0m\u001b[0m\n",
      "\u001b[1;31mDatabaseError\u001b[0m: ORA-12899: value too large for column \"USER_1\".\"COMPANIES\".\"NAME\" (actual: 66, maximum: 60)\n"
     ]
    }
   ],
   "source": [
    "insert_companies = ('INSERT INTO companies (permalink, name, homepage_url, category_list, funding_total_usd, status, country_code, state_code, region, city, funding_rounds, founded_at, first_funding_at, last_funding_at) '\n",
    "                    'VALUES ( :permalink, :name, :homepage_url, :category_list, :funding_total_usd, :status, :country_code, :state_code, :region, :city, :funding_rounds, TO_DATE(:founded_at, \\'YYYY-MM-DD\\'), TO_DATE(:first_funding_at, \\'YYYY-MM-DD\\'), TO_DATE(:last_funding_at, \\'YYYY-MM-DD\\'))')\n",
    "\n",
    "with open('part1/companies.csv', encoding='utf-8') as companies_file:\n",
    "    reader = csv.DictReader(companies_file)\n",
    "    for row in reader:\n",
    "        if row['funding_total_usd']=='-':\n",
    "            row['funding_total_usd']=''\n",
    "        cursor.execute(insert_companies, row)\n",
    "    "
   ]
  },
  {
   "cell_type": "code",
   "execution_count": 216,
   "metadata": {
    "collapsed": false
   },
   "outputs": [
    {
     "name": "stdout",
     "output_type": "stream",
     "text": [
      "('/organization/-fame', '#fame', 'http://livfame.com', 'Media', 10000000, 'operating', 'IND', '16', 'Mumbai', 'Mumbai', 1, None, datetime.datetime(2015, 1, 5, 0, 0), datetime.datetime(2015, 1, 5, 0, 0))\n",
      "('/organization/-qounter', ':Qounter', 'http://www.qounter.com', 'Application Platforms|Real Time|Social Network Media', 700000, 'operating', 'USA', 'DE', 'DE - Other', 'Delaware City', 2, datetime.datetime(2014, 9, 4, 0, 0), datetime.datetime(2014, 3, 1, 0, 0), datetime.datetime(2014, 10, 14, 0, 0))\n",
      "('/organization/-the-one-of-them-inc-', '(THE) ONE of THEM,Inc.', 'http://oneofthem.jp', 'Apps|Games|Mobile', 3406878, 'operating', None, None, None, None, 1, None, datetime.datetime(2014, 1, 30, 0, 0), datetime.datetime(2014, 1, 30, 0, 0))\n",
      "('/organization/0-6-com', '0-6.com', 'http://www.0-6.com', 'Curated Web', 2000000, 'operating', 'CHN', '22', 'Beijing', 'Beijing', 1, datetime.datetime(2007, 1, 1, 0, 0), datetime.datetime(2008, 3, 19, 0, 0), datetime.datetime(2008, 3, 19, 0, 0))\n",
      "('/organization/004-technologies', '004 Technologies', 'http://004gmbh.de/en/004-interact', 'Software', None, 'operating', 'USA', 'IL', 'Springfield, Illinois', 'Champaign', 1, datetime.datetime(2010, 1, 1, 0, 0), datetime.datetime(2014, 7, 24, 0, 0), datetime.datetime(2014, 7, 24, 0, 0))\n",
      "('/organization/01games-technology', '01Games Technology', 'http://www.01games.hk/', 'Games', 41250, 'operating', 'HKG', None, 'Hong Kong', 'Hong Kong', 1, None, datetime.datetime(2014, 7, 1, 0, 0), datetime.datetime(2014, 7, 1, 0, 0))\n",
      "('/organization/0ndine-biomedical-inc', 'Ondine Biomedical Inc.', 'http://ondinebio.com', 'Biotechnology', 762851, 'operating', 'CAN', 'BC', 'Vancouver', 'Vancouver', 2, datetime.datetime(1997, 1, 1, 0, 0), datetime.datetime(2009, 9, 11, 0, 0), datetime.datetime(2009, 12, 21, 0, 0))\n",
      "('/organization/0xdata', 'H2O.ai', 'http://h2o.ai/', 'Analytics', 33600000, 'operating', 'USA', 'CA', 'SF Bay Area', 'Mountain View', 4, datetime.datetime(2011, 1, 1, 0, 0), datetime.datetime(2013, 1, 3, 0, 0), datetime.datetime(2015, 11, 9, 0, 0))\n",
      "('/organization/1', 'One Inc.', 'http://whatis1.com', 'Mobile', 1150050, 'operating', 'USA', 'CA', 'SF Bay Area', 'San Francisco', 3, datetime.datetime(2011, 8, 1, 0, 0), datetime.datetime(2011, 7, 20, 0, 0), datetime.datetime(2014, 2, 5, 0, 0))\n",
      "('/organization/1-2-3-listo', '1,2,3 Listo', 'http://www.123listo.com', 'E-Commerce', 40000, 'operating', 'CHL', '12', 'Santiago', 'Las Condes', 1, datetime.datetime(2012, 1, 1, 0, 0), datetime.datetime(2013, 2, 18, 0, 0), datetime.datetime(2013, 2, 18, 0, 0))\n",
      "('/organization/1-4-all', '1-4 All', None, 'Entertainment|Games|Software', None, 'operating', 'USA', 'NC', 'NC - Other', 'Connellys Springs', 1, None, datetime.datetime(2013, 4, 21, 0, 0), datetime.datetime(2013, 4, 21, 0, 0))\n",
      "('/organization/1-618-technology', '1.618 Technology', 'http://www.Homeandcondogallery.com', 'Networking|Real Estate|Web Hosting', None, 'operating', 'USA', 'FL', 'Orlando', 'Orlando', 1, datetime.datetime(2013, 12, 7, 0, 0), datetime.datetime(2014, 1, 22, 0, 0), datetime.datetime(2014, 1, 22, 0, 0))\n"
     ]
    }
   ],
   "source": [
    "for i, r in enumerate(cursor.execute('select * from companies')):\n",
    "    print(r)\n",
    "    if(i > 10):\n",
    "        break"
   ]
  },
  {
   "cell_type": "code",
   "execution_count": 128,
   "metadata": {
    "collapsed": false
   },
   "outputs": [
    {
     "name": "stdout",
     "output_type": "stream",
     "text": [
      "('NLS_LANGUAGE', 'AMERICAN')\n",
      "('NLS_TERRITORY', 'AMERICA')\n",
      "('NLS_CURRENCY', '$')\n",
      "('NLS_ISO_CURRENCY', 'AMERICA')\n",
      "('NLS_NUMERIC_CHARACTERS', '.,')\n",
      "('NLS_CALENDAR', 'GREGORIAN')\n",
      "('NLS_DATE_FORMAT', 'DD-MON-RR')\n",
      "('NLS_DATE_LANGUAGE', 'AMERICAN')\n",
      "('NLS_SORT', 'BINARY')\n",
      "('NLS_TIME_FORMAT', 'HH.MI.SSXFF AM')\n",
      "('NLS_TIMESTAMP_FORMAT', 'DD-MON-RR HH.MI.SSXFF AM')\n",
      "('NLS_TIME_TZ_FORMAT', 'HH.MI.SSXFF AM TZR')\n",
      "('NLS_TIMESTAMP_TZ_FORMAT', 'DD-MON-RR HH.MI.SSXFF AM TZR')\n",
      "('NLS_DUAL_CURRENCY', '$')\n",
      "('NLS_COMP', 'BINARY')\n",
      "('NLS_LENGTH_SEMANTICS', 'BYTE')\n",
      "('NLS_NCHAR_CONV_EXCP', 'FALSE')\n"
     ]
    }
   ],
   "source": [
    "for r in cursor.execute('select * from nls_session_parameters'):\n",
    "    print(r)\n"
   ]
  },
  {
   "cell_type": "code",
   "execution_count": 129,
   "metadata": {
    "collapsed": false
   },
   "outputs": [
    {
     "name": "stdout",
     "output_type": "stream",
     "text": [
      "('NLS_RDBMS_VERSION', '12.1.0.2.0')\n",
      "('NLS_NCHAR_CONV_EXCP', 'FALSE')\n",
      "('NLS_LENGTH_SEMANTICS', 'BYTE')\n",
      "('NLS_COMP', 'BINARY')\n",
      "('NLS_DUAL_CURRENCY', '$')\n",
      "('NLS_TIMESTAMP_TZ_FORMAT', 'DD-MON-RR HH.MI.SSXFF AM TZR')\n",
      "('NLS_TIME_TZ_FORMAT', 'HH.MI.SSXFF AM TZR')\n",
      "('NLS_TIMESTAMP_FORMAT', 'DD-MON-RR HH.MI.SSXFF AM')\n",
      "('NLS_TIME_FORMAT', 'HH.MI.SSXFF AM')\n",
      "('NLS_SORT', 'BINARY')\n",
      "('NLS_DATE_LANGUAGE', 'AMERICAN')\n",
      "('NLS_DATE_FORMAT', 'DD-MON-RR')\n",
      "('NLS_CALENDAR', 'GREGORIAN')\n",
      "('NLS_NUMERIC_CHARACTERS', '.,')\n",
      "('NLS_NCHAR_CHARACTERSET', 'AL16UTF16')\n",
      "('NLS_CHARACTERSET', 'WE8MSWIN1252')\n",
      "('NLS_ISO_CURRENCY', 'AMERICA')\n",
      "('NLS_CURRENCY', '$')\n",
      "('NLS_TERRITORY', 'AMERICA')\n",
      "('NLS_LANGUAGE', 'AMERICAN')\n"
     ]
    }
   ],
   "source": [
    "for r in cursor.execute('select * from nls_database_parameters'):\n",
    "    print(r)\n"
   ]
  },
  {
   "cell_type": "code",
   "execution_count": 130,
   "metadata": {
    "collapsed": false
   },
   "outputs": [
    {
     "name": "stdout",
     "output_type": "stream",
     "text": [
      "('AMERICAN_AMERICA.WE8MSWIN1252',)\n"
     ]
    }
   ],
   "source": [
    "for r in cursor.execute('SELECT USERENV (\\'language\\') FROM DUAL'):\n",
    "    print(r)\n"
   ]
  },
  {
   "cell_type": "code",
   "execution_count": null,
   "metadata": {
    "collapsed": true
   },
   "outputs": [],
   "source": []
  },
  {
   "cell_type": "code",
   "execution_count": null,
   "metadata": {
    "collapsed": false
   },
   "outputs": [],
   "source": [
    "create_acquisitions = ('CREATE TABLE acquisitions ('\n",
    "                       'company_permalink VARCHAR(30),'\n",
    "                       'company_name VARCHAR(20),'\n",
    "                       'company_category_list VARCHAR(50),'\n",
    "                       'company_country_code CHAR(3),'\n",
    "                       'company_state_code VARCHAR(2),'\n",
    "                       'company_region VARCHAR(15),'\n",
    "                       'company_city VARCHAR(15),'\n",
    "                       'acquirer_permalink VARCHAR(30),'\n",
    "                       'acquirer_name VARCHAR(20),'\n",
    "                       'acquirer_category_list VARCHAR(50),'\n",
    "                       'acquirer_country_code CHAR(3),'\n",
    "                       'acquirer_state_code VARCHAR(2),'\n",
    "                       'acquirer_region VARCHAR(15),'\n",
    "                       'acquirer_city VARCHAR(15),'\n",
    "                       'acquired_at DATE,'\n",
    "                       'acquired_month DATE,'\n",
    "                       'price_amount NUMBER(12,0),'\n",
    "                       'price_currency_code CHAR(3))')\n",
    "cursor.execute(create_acquisitions)"
   ]
  },
  {
   "cell_type": "code",
   "execution_count": 228,
   "metadata": {
    "collapsed": false
   },
   "outputs": [],
   "source": [
    "drop_companies = ('DROP TABLE companies')\n",
    "cursor.execute(drop_companies)"
   ]
  },
  {
   "cell_type": "code",
   "execution_count": 218,
   "metadata": {
    "collapsed": false
   },
   "outputs": [
    {
     "ename": "DatabaseError",
     "evalue": "ORA-00942: table or view does not exist\n",
     "output_type": "error",
     "traceback": [
      "\u001b[1;31m---------------------------------------------------------------------------\u001b[0m",
      "\u001b[1;31mDatabaseError\u001b[0m                             Traceback (most recent call last)",
      "\u001b[1;32m<ipython-input-218-6f9ee7ab4940>\u001b[0m in \u001b[0;36m<module>\u001b[1;34m()\u001b[0m\n\u001b[0;32m      1\u001b[0m \u001b[0mdrop_acquisitions\u001b[0m \u001b[1;33m=\u001b[0m \u001b[1;33m(\u001b[0m\u001b[1;34m'DROP TABLE acquisitions'\u001b[0m\u001b[1;33m)\u001b[0m\u001b[1;33m\u001b[0m\u001b[0m\n\u001b[1;32m----> 2\u001b[1;33m \u001b[0mcursor\u001b[0m\u001b[1;33m.\u001b[0m\u001b[0mexecute\u001b[0m\u001b[1;33m(\u001b[0m\u001b[0mdrop_acquisitions\u001b[0m\u001b[1;33m)\u001b[0m\u001b[1;33m\u001b[0m\u001b[0m\n\u001b[0m",
      "\u001b[1;31mDatabaseError\u001b[0m: ORA-00942: table or view does not exist\n"
     ]
    }
   ],
   "source": [
    "drop_acquisitions = ('DROP TABLE acquisitions')\n",
    "cursor.execute(drop_acquisitions)"
   ]
  },
  {
   "cell_type": "code",
   "execution_count": 219,
   "metadata": {
    "collapsed": true
   },
   "outputs": [],
   "source": [
    "cursor.close()\n",
    "db.close()"
   ]
  },
  {
   "cell_type": "code",
   "execution_count": null,
   "metadata": {
    "collapsed": true
   },
   "outputs": [],
   "source": []
  }
 ],
 "metadata": {
  "kernelspec": {
   "display_name": "Python 3",
   "language": "python",
   "name": "python3"
  },
  "language_info": {
   "codemirror_mode": {
    "name": "ipython",
    "version": 3
   },
   "file_extension": ".py",
   "mimetype": "text/x-python",
   "name": "python",
   "nbconvert_exporter": "python",
   "pygments_lexer": "ipython3",
   "version": "3.5.1"
  }
 },
 "nbformat": 4,
 "nbformat_minor": 0
}
