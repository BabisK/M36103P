{
 "cells": [
  {
   "cell_type": "markdown",
   "metadata": {},
   "source": [
    "The following code was tested only with Linux OS. The Oracle DB client was installed and the cx_Oracle python library was used with Python 3.5."
   ]
  },
  {
   "cell_type": "code",
   "execution_count": 1,
   "metadata": {
    "collapsed": true
   },
   "outputs": [],
   "source": [
    "import cx_Oracle\n",
    "import csv\n",
    "import os"
   ]
  },
  {
   "cell_type": "markdown",
   "metadata": {},
   "source": [
    "We set the language to UTF8 so we can import and read Unicode characters that exist in the dataset."
   ]
  },
  {
   "cell_type": "code",
   "execution_count": 2,
   "metadata": {
    "collapsed": false
   },
   "outputs": [
    {
     "name": "stdout",
     "output_type": "stream",
     "text": [
      "Oracle DB server version 12.1.0.2.0\n"
     ]
    }
   ],
   "source": [
    "os.environ['NLS_LANG'] = '.AL32UTF8'\n",
    "db = cx_Oracle.connect('user_1', 'babis', '52.50.54.24:1521/ORCL', encoding='utf-8')\n",
    "print('Oracle DB server version %s' % db.version)"
   ]
  },
  {
   "cell_type": "markdown",
   "metadata": {},
   "source": [
    "Create the connection cursor we will use for all operations."
   ]
  },
  {
   "cell_type": "code",
   "execution_count": 3,
   "metadata": {
    "collapsed": false
   },
   "outputs": [],
   "source": [
    "cursor = db.cursor()"
   ]
  },
  {
   "cell_type": "code",
   "execution_count": 6,
   "metadata": {
    "collapsed": false
   },
   "outputs": [
    {
     "name": "stdout",
     "output_type": "stream",
     "text": [
      "('/organization/berkeley-design-automation', 'Berkeley Design Automation', 'http://www.berkeley-da.com', 'Nanotechnology', 20250000, 'acquired', 'USA', 'CA', 'SF Bay Area', 'Santa Clara', 3, datetime.datetime(2001, 10, 1, 0, 0), datetime.datetime(2002, 12, 1, 0, 0), datetime.datetime(2007, 4, 1, 0, 0))\n",
      "('/organization/berkeley-ultrasound', 'Berkeley Ultrasound', None, None, None, 'closed', None, None, None, None, 1, None, datetime.datetime(2015, 7, 14, 0, 0), datetime.datetime(2015, 7, 14, 0, 0))\n",
      "('/organization/berkley-networks', 'Berkley Networks', 'http://inmarkit.com', 'E-Commerce', 1642500, 'operating', 'USA', 'NY', 'New York City', 'New York', 4, datetime.datetime(2005, 1, 1, 0, 0), datetime.datetime(2011, 1, 7, 0, 0), datetime.datetime(2014, 3, 27, 0, 0))\n",
      "('/organization/berkna-wireless', 'Berkäna Wireless', 'http://www.berkanawireless.com', 'Mobile', 26500000, 'acquired', 'USA', 'CA', 'SF Bay Area', 'Campbell', 4, datetime.datetime(2001, 2, 1, 0, 0), datetime.datetime(2001, 10, 15, 0, 0), datetime.datetime(2004, 9, 18, 0, 0))\n",
      "('/organization/berkshire-films', 'Berkshire Films', None, 'Entertainment|Film|Games|Television', None, 'operating', 'USA', 'CT', 'Hartford', 'New Milford', 1, datetime.datetime(2014, 8, 15, 0, 0), datetime.datetime(2014, 8, 28, 0, 0), datetime.datetime(2014, 8, 28, 0, 0))\n"
     ]
    }
   ],
   "source": [
    "for i, row in enumerate(cursor.execute('SELECT * FROM companies WHERE name LIKE \\'Berk%\\'')):\n",
    "    print(row)\n",
    "    if(i > 10):\n",
    "        break"
   ]
  },
  {
   "cell_type": "code",
   "execution_count": 4,
   "metadata": {
    "collapsed": false
   },
   "outputs": [],
   "source": [
    "#cursor.execute('ALTER user user_1 IDENTIFIED BY \"babis\" REPLACE pwd')"
   ]
  },
  {
   "cell_type": "markdown",
   "metadata": {},
   "source": [
    "We create the companies table. The length of the fields were acquired through trial and error. We also use the permalink column as Primary Key."
   ]
  },
  {
   "cell_type": "code",
   "execution_count": 5,
   "metadata": {
    "collapsed": false
   },
   "outputs": [],
   "source": [
    "create_companies = ('CREATE TABLE companies ('\n",
    "                    'permalink NVARCHAR2(120),'\n",
    "                    'name NVARCHAR2(80),'\n",
    "                    'homepage_url VARCHAR(350),'\n",
    "                    'category_list VARCHAR(400),'\n",
    "                    'funding_total_usd NUMBER(12,0),'\n",
    "                    'status VARCHAR(15),'\n",
    "                    'country_code CHAR(3),'\n",
    "                    'state_code VARCHAR(2),'\n",
    "                    'region VARCHAR(40),'\n",
    "                    'city VARCHAR(40),'\n",
    "                    'funding_rounds NUMBER(3,0),'\n",
    "                    'founded_at DATE,'\n",
    "                    'first_funding_at DATE,'\n",
    "                    'last_funding_at DATE)')\n",
    "\n",
    "add_pk_companies = ('ALTER TABLE companies ADD CONSTRAINT pk_permalink PRIMARY KEY (permalink)')\n",
    "\n",
    "cursor.execute(create_companies)\n",
    "cursor.execute(add_pk_companies)"
   ]
  },
  {
   "cell_type": "markdown",
   "metadata": {},
   "source": [
    "We insert the data from file \"companies.csv\" in the companies table. Care is taken to tranform missing values in column \"funding_total_usd\" to NULL."
   ]
  },
  {
   "cell_type": "code",
   "execution_count": 6,
   "metadata": {
    "collapsed": false
   },
   "outputs": [],
   "source": [
    "insert_companies = ('INSERT INTO companies (permalink, name, homepage_url, category_list, funding_total_usd, status, country_code, state_code, region, city, funding_rounds, founded_at, first_funding_at, last_funding_at) '\n",
    "                    'VALUES ( :permalink, :name, :homepage_url, :category_list, :funding_total_usd, :status, :country_code, :state_code, :region, :city, :funding_rounds, TO_DATE(:founded_at, \\'YYYY-MM-DD\\'), TO_DATE(:first_funding_at, \\'YYYY-MM-DD\\'), TO_DATE(:last_funding_at, \\'YYYY-MM-DD\\'))')\n",
    "\n",
    "with open('part1/companies.csv', encoding='utf-8') as companies_file:\n",
    "    reader = csv.DictReader(companies_file)\n",
    "    for row in reader:\n",
    "        if row['funding_total_usd']=='-':\n",
    "            row['funding_total_usd']=''\n",
    "        cursor.execute(insert_companies, row)\n",
    "    "
   ]
  },
  {
   "cell_type": "markdown",
   "metadata": {},
   "source": [
    "We create the acquisitions table. Again column lengths was acquired through trial and error. In this dataset we have duplicate lines so we cannot use the permalink fields as Primary Key."
   ]
  },
  {
   "cell_type": "code",
   "execution_count": 11,
   "metadata": {
    "collapsed": false
   },
   "outputs": [],
   "source": [
    "create_acquisitions = ('CREATE TABLE acquisitions ('\n",
    "                       'company_permalink NVARCHAR2(120),'\n",
    "                       'company_name NVARCHAR2(120),'\n",
    "                       'company_category_list VARCHAR(400),'\n",
    "                       'company_country_code CHAR(3),'\n",
    "                       'company_state_code VARCHAR(2),'\n",
    "                       'company_region VARCHAR(40),'\n",
    "                       'company_city VARCHAR(40),'\n",
    "                       'acquirer_permalink NVARCHAR2(120),'\n",
    "                       'acquirer_name NVARCHAR2(120),'\n",
    "                       'acquirer_category_list VARCHAR(400),'\n",
    "                       'acquirer_country_code CHAR(3),'\n",
    "                       'acquirer_state_code VARCHAR(2),'\n",
    "                       'acquirer_region VARCHAR(40),'\n",
    "                       'acquirer_city VARCHAR(40),'\n",
    "                       'acquired_at DATE,'\n",
    "                       'acquired_month DATE,'\n",
    "                       'price_amount NUMBER(12,0),'\n",
    "                       'price_currency_code CHAR(3))')\n",
    "\n",
    "#add_pk_acquisitions = ('ALTER TABLE acquisitions ADD CONSTRAINT acquisitions_pk_permalink PRIMARY KEY (company_permalink, acquirer_permalink)')\n",
    "\n",
    "cursor.execute(create_acquisitions)\n",
    "#cursor.execute(add_pk_acquisitions)"
   ]
  },
  {
   "cell_type": "markdown",
   "metadata": {},
   "source": [
    "We insert thte data from file \"acquisitions.csv\"."
   ]
  },
  {
   "cell_type": "code",
   "execution_count": 12,
   "metadata": {
    "collapsed": false,
    "scrolled": true
   },
   "outputs": [],
   "source": [
    "insert_acquisitions = ('INSERT INTO acquisitions (company_permalink, company_name, company_category_list, company_country_code, company_state_code, company_region, company_city, acquirer_permalink, acquirer_name, acquirer_category_list, acquirer_country_code, acquirer_state_code, acquirer_region, acquirer_city, acquired_at, acquired_month, price_amount, price_currency_code)'\n",
    "                       'VALUES (:company_permalink, :company_name, :company_category_list, :company_country_code, :company_state_code, :company_region, :company_city, :acquirer_permalink, :acquirer_name, :acquirer_category_list, :acquirer_country_code, :acquirer_state_code, :acquirer_region, :acquirer_city, TO_DATE(:acquired_at, \\'YYYY-MM-DD\\'), TO_DATE(:acquired_month, \\'YYYY-MM\\'), :price_amount, :price_currency_code)')\n",
    "\n",
    "with open('part1/acquisitions.csv', encoding='utf-8') as acquisitions_file:\n",
    "    reader = csv.DictReader(acquisitions_file)\n",
    "    for row in reader:\n",
    "        cursor.execute(insert_acquisitions, row)"
   ]
  },
  {
   "cell_type": "markdown",
   "metadata": {},
   "source": [
    "For all the companies whose status column is \"acquired\" we show the associated acquisition amount, or None if it doesn't exist. As the acquisitions data set is not clean we select distinct values only. We only print the first 10 entries to conserve space in the notebook."
   ]
  },
  {
   "cell_type": "code",
   "execution_count": null,
   "metadata": {
    "collapsed": false
   },
   "outputs": [],
   "source": [
    "part1a = ('CREATE VIEW q1a AS '\n",
    "          'SELECT DISTINCT acquisitions.company_name AS company_name, acquisitions.price_amount AS price_amount '\n",
    "          'FROM acquisitions '\n",
    "          'JOIN companies '\n",
    "          'ON acquisitions.company_permalink = companies.permalink '\n",
    "          'WHERE companies.status = \\'acquired\\' '\n",
    "          'ORDER BY company_name')\n",
    "\n",
    "cursor.execute(part1a)"
   ]
  },
  {
   "cell_type": "code",
   "execution_count": 17,
   "metadata": {
    "collapsed": false
   },
   "outputs": [
    {
     "name": "stdout",
     "output_type": "stream",
     "text": [
      "('1 Mainstream', None)\n",
      "('1000 Markets', None)\n",
      "('1000memories', None)\n",
      "('100Plus', None)\n",
      "('1010data', 500000000)\n",
      "('12Society', None)\n",
      "('13th Lab', None)\n",
      "('170 Systems', 43000000)\n",
      "('1CLICK', None)\n",
      "('1DocWay', None)\n",
      "('280 North', 20000000)\n",
      "('29West', None)\n"
     ]
    }
   ],
   "source": [
    "for i, row in enumerate(cursor.execute('SELECT * FROM q1a')):\n",
    "    print(row)\n",
    "    if(i > 10):\n",
    "        break"
   ]
  },
  {
   "cell_type": "markdown",
   "metadata": {},
   "source": [
    "According to these data 3064 startups where founded in 2012 and 2013."
   ]
  },
  {
   "cell_type": "code",
   "execution_count": 20,
   "metadata": {
    "collapsed": false
   },
   "outputs": [],
   "source": [
    "part1b = ('CREATE VIEW q1b AS '\n",
    "          'SELECT COUNT(name) AS count '\n",
    "          'FROM companies '\n",
    "          'WHERE founded_at >= TO_DATE(\\'2012-01-01\\', \\'YYYY-MM-DD\\') '\n",
    "          'AND founded_at <= TO_DATE(\\'2014-12-31\\', \\'YYYY-MM-DD\\')')\n",
    "\n",
    "cursor.execute(part1b)"
   ]
  },
  {
   "cell_type": "code",
   "execution_count": 21,
   "metadata": {
    "collapsed": false
   },
   "outputs": [
    {
     "name": "stdout",
     "output_type": "stream",
     "text": [
      "(4289,)\n"
     ]
    }
   ],
   "source": [
    "for i, row in enumerate(cursor.execute('SELECT * FROM q1b')):\n",
    "    print(row)\n",
    "    if(i > 10):\n",
    "        break"
   ]
  },
  {
   "cell_type": "markdown",
   "metadata": {},
   "source": [
    "California is the state with the larger number of startups in the security market."
   ]
  },
  {
   "cell_type": "code",
   "execution_count": 22,
   "metadata": {
    "collapsed": false
   },
   "outputs": [],
   "source": [
    "part1c = ('CREATE VIEW q1c AS '\n",
    "          'SELECT a.* '\n",
    "          'FROM '\n",
    "              '(SELECT state_code AS state, COUNT(*) AS total '\n",
    "              'FROM companies '\n",
    "              'WHERE category_list LIKE \\'%Security%\\' '\n",
    "              'AND state_code IS NOT NULL '\n",
    "              'GROUP BY state_code) a '\n",
    "          'JOIN '\n",
    "              '(SELECT MAX(y.total) AS total '\n",
    "              'FROM '\n",
    "                  '(SELECT state_code AS state, COUNT(*) AS total '\n",
    "                  'FROM companies '\n",
    "                  'WHERE category_list LIKE \\'%Security%\\' '\n",
    "                  'AND state_code IS NOT NULL '\n",
    "                  'GROUP BY state_code) y '\n",
    "              ') b '\n",
    "          'ON a.total=b.total')\n",
    "\n",
    "cursor.execute(part1c)"
   ]
  },
  {
   "cell_type": "code",
   "execution_count": 23,
   "metadata": {
    "collapsed": false
   },
   "outputs": [
    {
     "name": "stdout",
     "output_type": "stream",
     "text": [
      "('CA', 124)\n"
     ]
    }
   ],
   "source": [
    "for i, row in enumerate(cursor.execute('SELECT * FROM q1c')):\n",
    "    print(row)\n",
    "    if(i > 10):\n",
    "        break"
   ]
  },
  {
   "cell_type": "markdown",
   "metadata": {},
   "source": [
    "The list with the cities that have more acquirer companies than startups is bellow. First 10 are print out to conserve notebook space."
   ]
  },
  {
   "cell_type": "code",
   "execution_count": 24,
   "metadata": {
    "collapsed": false
   },
   "outputs": [],
   "source": [
    "part1d = ('CREATE VIEW q1d AS '\n",
    "          'SELECT acquirers.city AS city '\n",
    "          'FROM ('\n",
    "              'SELECT city, COUNT(*) AS startups '\n",
    "              'FROM companies '\n",
    "              'WHERE founded_at >= TO_DATE(\\'2012-01-01\\', \\'YYYY-MM-DD\\') '\n",
    "              'AND founded_at <= TO_DATE(\\'2013-12-31\\', \\'YYYY-MM-DD\\') '\n",
    "              'AND city IS NOT NULL '\n",
    "              'GROUP BY city) startups '\n",
    "          'RIGHT JOIN ('\n",
    "              'SELECT acquirer_city AS city, COUNT(DISTINCT acquirer_name) AS acquirers '\n",
    "              'FROM acquisitions '\n",
    "              'WHERE acquirer_city IS NOT NULL '\n",
    "              'GROUP BY acquirer_city) acquirers '\n",
    "          'ON startups.city=acquirers.city '\n",
    "          'WHERE acquirers.acquirers > startups.startups'\n",
    "         )\n",
    "\n",
    "cursor.execute(part1d)"
   ]
  },
  {
   "cell_type": "code",
   "execution_count": 25,
   "metadata": {
    "collapsed": false
   },
   "outputs": [
    {
     "name": "stdout",
     "output_type": "stream",
     "text": [
      "('Tokyo',)\n",
      "('London',)\n",
      "('Bellevue',)\n",
      "('Aliso Viejo',)\n",
      "('Mississauga',)\n",
      "('Salt Lake City',)\n",
      "('Columbia',)\n",
      "('Tulsa',)\n",
      "('Newport Beach',)\n",
      "('Bedford',)\n",
      "('Avon',)\n",
      "('Costa Mesa',)\n"
     ]
    }
   ],
   "source": [
    "for i, row in enumerate(cursor.execute('SELECT * FROM q1d')):\n",
    "    print(row)\n",
    "    if(i > 10):\n",
    "        break"
   ]
  },
  {
   "cell_type": "markdown",
   "metadata": {},
   "source": [
    "We drop the tables and close the connection to the DB server."
   ]
  },
  {
   "cell_type": "code",
   "execution_count": null,
   "metadata": {
    "collapsed": false
   },
   "outputs": [],
   "source": [
    "drop_companies = ('DROP TABLE companies')\n",
    "cursor.execute(drop_companies)"
   ]
  },
  {
   "cell_type": "code",
   "execution_count": null,
   "metadata": {
    "collapsed": false
   },
   "outputs": [],
   "source": [
    "drop_acquisitions = ('DROP TABLE acquisitions')\n",
    "cursor.execute(drop_acquisitions)"
   ]
  },
  {
   "cell_type": "code",
   "execution_count": null,
   "metadata": {
    "collapsed": true
   },
   "outputs": [],
   "source": [
    "cursor.close()\n",
    "db.close()"
   ]
  },
  {
   "cell_type": "code",
   "execution_count": null,
   "metadata": {
    "collapsed": true
   },
   "outputs": [],
   "source": []
  }
 ],
 "metadata": {
  "kernelspec": {
   "display_name": "Python 3",
   "language": "python",
   "name": "python3"
  },
  "language_info": {
   "codemirror_mode": {
    "name": "ipython",
    "version": 3
   },
   "file_extension": ".py",
   "mimetype": "text/x-python",
   "name": "python",
   "nbconvert_exporter": "python",
   "pygments_lexer": "ipython3",
   "version": "3.5.1"
  }
 },
 "nbformat": 4,
 "nbformat_minor": 0
}
